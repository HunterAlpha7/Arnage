{
  "nbformat": 4,
  "nbformat_minor": 0,
  "metadata": {
    "colab": {
      "provenance": [],
      "authorship_tag": "ABX9TyNANiHHvIISMKM+seflxBCf",
      "include_colab_link": true
    },
    "kernelspec": {
      "name": "python3",
      "display_name": "Python 3"
    },
    "language_info": {
      "name": "python"
    }
  },
  "cells": [
    {
      "cell_type": "markdown",
      "metadata": {
        "id": "view-in-github",
        "colab_type": "text"
      },
      "source": [
        "<a href=\"https://colab.research.google.com/github/HunterAlpha7/Arnage/blob/main/SIM_Lab_Test_0432220005101066_A2.ipynb\" target=\"_parent\"><img src=\"https://colab.research.google.com/assets/colab-badge.svg\" alt=\"Open In Colab\"/></a>"
      ]
    },
    {
      "cell_type": "markdown",
      "metadata": {
        "id": "5d4fd870"
      },
      "source": [
        "# Task\n"
      ]
    },
    {
      "cell_type": "code",
      "metadata": {
        "colab": {
          "base_uri": "https://localhost:8080/",
          "height": 206
        },
        "id": "59084bc9",
        "outputId": "9b0e18f5-67b5-4704-8f5e-d7f649dff206"
      },
      "source": [
        "import pandas as pd\n",
        "from scipy.stats import ttest_1samp\n",
        "import matplotlib.pyplot as plt\n",
        "import numpy as np\n",
        "\n",
        "\n",
        "data = [\n",
        "    [1, 8], [2, 12], [3, 10], [4, 15], [5, 9],\n",
        "    [6, 13], [7, 11], [8, 14], [9, 7], [10, 16],\n",
        "    [11, 10], [12, 12], [13, 9], [14, 15], [15, 11],\n",
        "    [16, 13], [17, 14], [18, 8], [19, 12], [20, 10]\n",
        "]\n",
        "\n",
        "df = pd.DataFrame(data, columns=['Day', 'Arrivals'])\n",
        "display(df.head())"
      ],
      "execution_count": 14,
      "outputs": [
        {
          "output_type": "display_data",
          "data": {
            "text/plain": [
              "   Day  Arrivals\n",
              "0    1         8\n",
              "1    2        12\n",
              "2    3        10\n",
              "3    4        15\n",
              "4    5         9"
            ],
            "text/html": [
              "\n",
              "  <div id=\"df-4e718faf-8e30-4557-bb6b-e88ca781f498\" class=\"colab-df-container\">\n",
              "    <div>\n",
              "<style scoped>\n",
              "    .dataframe tbody tr th:only-of-type {\n",
              "        vertical-align: middle;\n",
              "    }\n",
              "\n",
              "    .dataframe tbody tr th {\n",
              "        vertical-align: top;\n",
              "    }\n",
              "\n",
              "    .dataframe thead th {\n",
              "        text-align: right;\n",
              "    }\n",
              "</style>\n",
              "<table border=\"1\" class=\"dataframe\">\n",
              "  <thead>\n",
              "    <tr style=\"text-align: right;\">\n",
              "      <th></th>\n",
              "      <th>Day</th>\n",
              "      <th>Arrivals</th>\n",
              "    </tr>\n",
              "  </thead>\n",
              "  <tbody>\n",
              "    <tr>\n",
              "      <th>0</th>\n",
              "      <td>1</td>\n",
              "      <td>8</td>\n",
              "    </tr>\n",
              "    <tr>\n",
              "      <th>1</th>\n",
              "      <td>2</td>\n",
              "      <td>12</td>\n",
              "    </tr>\n",
              "    <tr>\n",
              "      <th>2</th>\n",
              "      <td>3</td>\n",
              "      <td>10</td>\n",
              "    </tr>\n",
              "    <tr>\n",
              "      <th>3</th>\n",
              "      <td>4</td>\n",
              "      <td>15</td>\n",
              "    </tr>\n",
              "    <tr>\n",
              "      <th>4</th>\n",
              "      <td>5</td>\n",
              "      <td>9</td>\n",
              "    </tr>\n",
              "  </tbody>\n",
              "</table>\n",
              "</div>\n",
              "    <div class=\"colab-df-buttons\">\n",
              "\n",
              "  <div class=\"colab-df-container\">\n",
              "    <button class=\"colab-df-convert\" onclick=\"convertToInteractive('df-4e718faf-8e30-4557-bb6b-e88ca781f498')\"\n",
              "            title=\"Convert this dataframe to an interactive table.\"\n",
              "            style=\"display:none;\">\n",
              "\n",
              "  <svg xmlns=\"http://www.w3.org/2000/svg\" height=\"24px\" viewBox=\"0 -960 960 960\">\n",
              "    <path d=\"M120-120v-720h720v720H120Zm60-500h600v-160H180v160Zm220 220h160v-160H400v160Zm0 220h160v-160H400v160ZM180-400h160v-160H180v160Zm440 0h160v-160H620v160ZM180-180h160v-160H180v160Zm440 0h160v-160H620v160Z\"/>\n",
              "  </svg>\n",
              "    </button>\n",
              "\n",
              "  <style>\n",
              "    .colab-df-container {\n",
              "      display:flex;\n",
              "      gap: 12px;\n",
              "    }\n",
              "\n",
              "    .colab-df-convert {\n",
              "      background-color: #E8F0FE;\n",
              "      border: none;\n",
              "      border-radius: 50%;\n",
              "      cursor: pointer;\n",
              "      display: none;\n",
              "      fill: #1967D2;\n",
              "      height: 32px;\n",
              "      padding: 0 0 0 0;\n",
              "      width: 32px;\n",
              "    }\n",
              "\n",
              "    .colab-df-convert:hover {\n",
              "      background-color: #E2EBFA;\n",
              "      box-shadow: 0px 1px 2px rgba(60, 64, 67, 0.3), 0px 1px 3px 1px rgba(60, 64, 67, 0.15);\n",
              "      fill: #174EA6;\n",
              "    }\n",
              "\n",
              "    .colab-df-buttons div {\n",
              "      margin-bottom: 4px;\n",
              "    }\n",
              "\n",
              "    [theme=dark] .colab-df-convert {\n",
              "      background-color: #3B4455;\n",
              "      fill: #D2E3FC;\n",
              "    }\n",
              "\n",
              "    [theme=dark] .colab-df-convert:hover {\n",
              "      background-color: #434B5C;\n",
              "      box-shadow: 0px 1px 3px 1px rgba(0, 0, 0, 0.15);\n",
              "      filter: drop-shadow(0px 1px 2px rgba(0, 0, 0, 0.3));\n",
              "      fill: #FFFFFF;\n",
              "    }\n",
              "  </style>\n",
              "\n",
              "    <script>\n",
              "      const buttonEl =\n",
              "        document.querySelector('#df-4e718faf-8e30-4557-bb6b-e88ca781f498 button.colab-df-convert');\n",
              "      buttonEl.style.display =\n",
              "        google.colab.kernel.accessAllowed ? 'block' : 'none';\n",
              "\n",
              "      async function convertToInteractive(key) {\n",
              "        const element = document.querySelector('#df-4e718faf-8e30-4557-bb6b-e88ca781f498');\n",
              "        const dataTable =\n",
              "          await google.colab.kernel.invokeFunction('convertToInteractive',\n",
              "                                                    [key], {});\n",
              "        if (!dataTable) return;\n",
              "\n",
              "        const docLinkHtml = 'Like what you see? Visit the ' +\n",
              "          '<a target=\"_blank\" href=https://colab.research.google.com/notebooks/data_table.ipynb>data table notebook</a>'\n",
              "          + ' to learn more about interactive tables.';\n",
              "        element.innerHTML = '';\n",
              "        dataTable['output_type'] = 'display_data';\n",
              "        await google.colab.output.renderOutput(dataTable, element);\n",
              "        const docLink = document.createElement('div');\n",
              "        docLink.innerHTML = docLinkHtml;\n",
              "        element.appendChild(docLink);\n",
              "      }\n",
              "    </script>\n",
              "  </div>\n",
              "\n",
              "\n",
              "    <div id=\"df-3592f834-9c96-4ae0-b3b5-acb9ff9c71d6\">\n",
              "      <button class=\"colab-df-quickchart\" onclick=\"quickchart('df-3592f834-9c96-4ae0-b3b5-acb9ff9c71d6')\"\n",
              "                title=\"Suggest charts\"\n",
              "                style=\"display:none;\">\n",
              "\n",
              "<svg xmlns=\"http://www.w3.org/2000/svg\" height=\"24px\"viewBox=\"0 0 24 24\"\n",
              "     width=\"24px\">\n",
              "    <g>\n",
              "        <path d=\"M19 3H5c-1.1 0-2 .9-2 2v14c0 1.1.9 2 2 2h14c1.1 0 2-.9 2-2V5c0-1.1-.9-2-2-2zM9 17H7v-7h2v7zm4 0h-2V7h2v10zm4 0h-2v-4h2v4z\"/>\n",
              "    </g>\n",
              "</svg>\n",
              "      </button>\n",
              "\n",
              "<style>\n",
              "  .colab-df-quickchart {\n",
              "      --bg-color: #E8F0FE;\n",
              "      --fill-color: #1967D2;\n",
              "      --hover-bg-color: #E2EBFA;\n",
              "      --hover-fill-color: #174EA6;\n",
              "      --disabled-fill-color: #AAA;\n",
              "      --disabled-bg-color: #DDD;\n",
              "  }\n",
              "\n",
              "  [theme=dark] .colab-df-quickchart {\n",
              "      --bg-color: #3B4455;\n",
              "      --fill-color: #D2E3FC;\n",
              "      --hover-bg-color: #434B5C;\n",
              "      --hover-fill-color: #FFFFFF;\n",
              "      --disabled-bg-color: #3B4455;\n",
              "      --disabled-fill-color: #666;\n",
              "  }\n",
              "\n",
              "  .colab-df-quickchart {\n",
              "    background-color: var(--bg-color);\n",
              "    border: none;\n",
              "    border-radius: 50%;\n",
              "    cursor: pointer;\n",
              "    display: none;\n",
              "    fill: var(--fill-color);\n",
              "    height: 32px;\n",
              "    padding: 0;\n",
              "    width: 32px;\n",
              "  }\n",
              "\n",
              "  .colab-df-quickchart:hover {\n",
              "    background-color: var(--hover-bg-color);\n",
              "    box-shadow: 0 1px 2px rgba(60, 64, 67, 0.3), 0 1px 3px 1px rgba(60, 64, 67, 0.15);\n",
              "    fill: var(--button-hover-fill-color);\n",
              "  }\n",
              "\n",
              "  .colab-df-quickchart-complete:disabled,\n",
              "  .colab-df-quickchart-complete:disabled:hover {\n",
              "    background-color: var(--disabled-bg-color);\n",
              "    fill: var(--disabled-fill-color);\n",
              "    box-shadow: none;\n",
              "  }\n",
              "\n",
              "  .colab-df-spinner {\n",
              "    border: 2px solid var(--fill-color);\n",
              "    border-color: transparent;\n",
              "    border-bottom-color: var(--fill-color);\n",
              "    animation:\n",
              "      spin 1s steps(1) infinite;\n",
              "  }\n",
              "\n",
              "  @keyframes spin {\n",
              "    0% {\n",
              "      border-color: transparent;\n",
              "      border-bottom-color: var(--fill-color);\n",
              "      border-left-color: var(--fill-color);\n",
              "    }\n",
              "    20% {\n",
              "      border-color: transparent;\n",
              "      border-left-color: var(--fill-color);\n",
              "      border-top-color: var(--fill-color);\n",
              "    }\n",
              "    30% {\n",
              "      border-color: transparent;\n",
              "      border-left-color: var(--fill-color);\n",
              "      border-top-color: var(--fill-color);\n",
              "      border-right-color: var(--fill-color);\n",
              "    }\n",
              "    40% {\n",
              "      border-color: transparent;\n",
              "      border-right-color: var(--fill-color);\n",
              "      border-top-color: var(--fill-color);\n",
              "    }\n",
              "    60% {\n",
              "      border-color: transparent;\n",
              "      border-right-color: var(--fill-color);\n",
              "    }\n",
              "    80% {\n",
              "      border-color: transparent;\n",
              "      border-right-color: var(--fill-color);\n",
              "      border-bottom-color: var(--fill-color);\n",
              "    }\n",
              "    90% {\n",
              "      border-color: transparent;\n",
              "      border-bottom-color: var(--fill-color);\n",
              "    }\n",
              "  }\n",
              "</style>\n",
              "\n",
              "      <script>\n",
              "        async function quickchart(key) {\n",
              "          const quickchartButtonEl =\n",
              "            document.querySelector('#' + key + ' button');\n",
              "          quickchartButtonEl.disabled = true;  // To prevent multiple clicks.\n",
              "          quickchartButtonEl.classList.add('colab-df-spinner');\n",
              "          try {\n",
              "            const charts = await google.colab.kernel.invokeFunction(\n",
              "                'suggestCharts', [key], {});\n",
              "          } catch (error) {\n",
              "            console.error('Error during call to suggestCharts:', error);\n",
              "          }\n",
              "          quickchartButtonEl.classList.remove('colab-df-spinner');\n",
              "          quickchartButtonEl.classList.add('colab-df-quickchart-complete');\n",
              "        }\n",
              "        (() => {\n",
              "          let quickchartButtonEl =\n",
              "            document.querySelector('#df-3592f834-9c96-4ae0-b3b5-acb9ff9c71d6 button');\n",
              "          quickchartButtonEl.style.display =\n",
              "            google.colab.kernel.accessAllowed ? 'block' : 'none';\n",
              "        })();\n",
              "      </script>\n",
              "    </div>\n",
              "\n",
              "    </div>\n",
              "  </div>\n"
            ],
            "application/vnd.google.colaboratory.intrinsic+json": {
              "type": "dataframe",
              "summary": "{\n  \"name\": \"display(df\",\n  \"rows\": 5,\n  \"fields\": [\n    {\n      \"column\": \"Day\",\n      \"properties\": {\n        \"dtype\": \"number\",\n        \"std\": 1,\n        \"min\": 1,\n        \"max\": 5,\n        \"num_unique_values\": 5,\n        \"samples\": [\n          2,\n          5,\n          3\n        ],\n        \"semantic_type\": \"\",\n        \"description\": \"\"\n      }\n    },\n    {\n      \"column\": \"Arrivals\",\n      \"properties\": {\n        \"dtype\": \"number\",\n        \"std\": 2,\n        \"min\": 8,\n        \"max\": 15,\n        \"num_unique_values\": 5,\n        \"samples\": [\n          12,\n          9,\n          10\n        ],\n        \"semantic_type\": \"\",\n        \"description\": \"\"\n      }\n    }\n  ]\n}"
            }
          },
          "metadata": {}
        }
      ]
    },
    {
      "cell_type": "markdown",
      "metadata": {
        "id": "b330dd27"
      },
      "source": [
        "## Basic statistics\n",
        "\n",
        "### Subtask:\n",
        "Compute and display the mean, variance, and standard deviation of the daily customer arrivals. Explain the difference between population and sample variance.\n"
      ]
    },
    {
      "cell_type": "code",
      "metadata": {
        "colab": {
          "base_uri": "https://localhost:8080/"
        },
        "id": "1c0754d8",
        "outputId": "cae8cd10-41f9-42cc-caa2-d70283767b86"
      },
      "source": [
        "mean_arrivals = df['Arrivals'].mean()\n",
        "variance_arrivals = df['Arrivals'].var()\n",
        "std_dev_arrivals = df['Arrivals'].std()\n",
        "\n",
        "print(f\"Mean of daily arrivals: {mean_arrivals:.2f}\")\n",
        "print(f\"Sample variance of daily arrivals: {variance_arrivals:.2f}\")\n",
        "print(f\"Sample standard deviation of daily arrivals: {std_dev_arrivals:.2f}\")"
      ],
      "execution_count": 5,
      "outputs": [
        {
          "output_type": "stream",
          "name": "stdout",
          "text": [
            "Mean of daily arrivals: 11.45\n",
            "Sample variance of daily arrivals: 6.68\n",
            "Sample standard deviation of daily arrivals: 2.58\n"
          ]
        }
      ]
    },
    {
      "cell_type": "markdown",
      "metadata": {
        "id": "59e84306"
      },
      "source": [
        "**Reasoning**:\n",
        "Explain the difference between population and sample variance in a markdown cell.\n",
        "\n"
      ]
    },
    {
      "cell_type": "markdown",
      "source": [
        "In essence, population variance uses all data points from the entire group, while sample variance uses a subset of data points and adjusts the denominator to better estimate the true population variance."
      ],
      "metadata": {
        "id": "cqxXRDEqHpl0"
      }
    },
    {
      "cell_type": "markdown",
      "source": [
        "2. Random Number Generator"
      ],
      "metadata": {
        "id": "QQTNGiEMH1E8"
      }
    },
    {
      "cell_type": "code",
      "metadata": {
        "colab": {
          "base_uri": "https://localhost:8080/",
          "height": 507
        },
        "id": "e1836fdc",
        "outputId": "1b596370-dc0d-4a5a-8c0e-c730c4d9509a"
      },
      "source": [
        "import numpy as np\n",
        "import matplotlib.pyplot as plt\n",
        "\n",
        "simulated_arrivals = np.random.randint(df['Arrivals'].min(), df['Arrivals'].max() + 1, size=30)\n",
        "\n",
        "fig, axes = plt.subplots(1, 2, figsize=(12, 5))\n",
        "\n",
        "axes[0].hist(df['Arrivals'], bins=range(df['Arrivals'].min(), df['Arrivals'].max() + 2), align='left', rwidth=0.8)\n",
        "axes[0].set_title(\"Real Data\")\n",
        "axes[0].set_xlabel(\"Number of Arrivals\")\n",
        "axes[0].set_ylabel(\"Frequency\")\n",
        "\n",
        "axes[1].hist(simulated_arrivals, bins=range(df['Arrivals'].min(), df['Arrivals'].max() + 2), align='left', rwidth=0.8)\n",
        "axes[1].set_title(\"Simulated Data (Uniform Distribution)\")\n",
        "axes[1].set_xlabel(\"Number of Arrivals\")\n",
        "axes[1].set_ylabel(\"Frequency\")\n",
        "\n",
        "plt.tight_layout()\n",
        "plt.show()"
      ],
      "execution_count": 15,
      "outputs": [
        {
          "output_type": "display_data",
          "data": {
            "text/plain": [
              "<Figure size 1200x500 with 2 Axes>"
            ],
            "image/png": "[encoded data removed]"
          },
          "metadata": {}
        }
      ]
    },
    {
      "cell_type": "markdown",
      "metadata": {
        "id": "58c50c5c"
      },
      "source": [
        "## Monte carlo simulation"
      ]
    },
    {
      "cell_type": "code",
      "metadata": {
        "colab": {
          "base_uri": "https://localhost:8080/"
        },
        "id": "5fa846b4",
        "outputId": "8fc584d3-9983-43a1-fdaf-e737f9b7439d"
      },
      "source": [
        "num_simulations = 100000\n",
        "min_arrivals = df['Arrivals'].min()\n",
        "max_arrivals = df['Arrivals'].max()\n",
        "\n",
        "simulated_arrivals_mc = np.random.uniform(min_arrivals, max_arrivals + 1, size=num_simulations)\n",
        "\n",
        "arrivals_greater_than_15 = np.sum(simulated_arrivals_mc > 15)\n",
        "\n",
        "estimated_probability = arrivals_greater_than_15 / num_simulations\n",
        "\n",
        "print(f\"Estimated probability of more than 15 arrivals: {estimated_probability:.4f}\")"
      ],
      "execution_count": 9,
      "outputs": [
        {
          "output_type": "stream",
          "name": "stdout",
          "text": [
            "Estimated probability of more than 15 arrivals: 0.2001\n"
          ]
        }
      ]
    },
    {
      "cell_type": "markdown",
      "metadata": {
        "id": "5ab5c56a"
      },
      "source": [
        "## Hypothesis testing\n"
      ]
    },
    {
      "cell_type": "code",
      "metadata": {
        "colab": {
          "base_uri": "https://localhost:8080/",
          "height": 516
        },
        "id": "f740381a",
        "outputId": "c5d34aeb-619d-4546-c1e4-526faa41be82"
      },
      "source": [
        "\n",
        "\n",
        "# 1. Calculate the hypothesized mean\n",
        "hypothesized_mean = (66 % 10) + 10\n",
        "print(f\"Hypothesized mean: {hypothesized_mean:.2f}\")\n",
        "\n",
        "# 3. Perform a one-sample t-test\n",
        "t_statistic, p_value = ttest_1samp(df['Arrivals'], popmean=hypothesized_mean)\n",
        "\n",
        "# 4. Print the t-statistic and p-value\n",
        "print(f\"T-statistic: {t_statistic:.2f}\")\n",
        "print(f\"P-value: {p_value:.4f}\")\n",
        "\n",
        "# 5. Create a bar plot comparing the mean_arrivals and hypothesized_mean\n",
        "labels = ['Sample Mean', 'Hypothesized Mean']\n",
        "values = [mean_arrivals, hypothesized_mean]\n",
        "\n",
        "plt.figure(figsize=(6, 4))\n",
        "plt.bar(labels, values, color=['skyblue', 'lightcoral'])\n",
        "\n",
        "# 6. Add labels to the x and y axes and a title to the bar plot\n",
        "plt.ylabel(\"Number of Arrivals\")\n",
        "plt.title(\"Comparison of Sample Mean and Hypothesized Mean\")\n",
        "\n",
        "# 7. Display the plot\n",
        "plt.show()\n",
        "\n",
        "# 8. Write a brief interpretation of the t-test results\n",
        "print(\"\\nT-test Interpretation:\")\n",
        "if p_value < 0.05:\n",
        "    print(f\"With a p-value of {p_value:.4f}, which is less than the significance level of 0.05, we reject the null hypothesis.\")\n",
        "    print(f\"This suggests that the true mean of daily customer arrivals is statistically significantly different from the hypothesized mean of {hypothesized_mean:.2f}.\")\n",
        "else:\n",
        "    print(f\"With a p-value of {p_value:.4f}, which is greater than or equal to the significance level of 0.05, we fail to reject the null hypothesis.\")\n",
        "    print(f\"This suggests that there is not enough statistical evidence to conclude that the true mean of daily customer arrivals is significantly different from the hypothesized mean of {hypothesized_mean:.2f}.\")"
      ],
      "execution_count": 13,
      "outputs": [
        {
          "output_type": "stream",
          "name": "stdout",
          "text": [
            "Hypothesized mean: 16.00\n",
            "T-statistic: -7.87\n",
            "P-value: 0.0000\n"
          ]
        },
        {
          "output_type": "display_data",
          "data": {
            "text/plain": [
              "<Figure size 600x400 with 1 Axes>"
            ],
            "image/png": "[encoded data removed]"
          },
          "metadata": {}
        },
        {
          "output_type": "stream",
          "name": "stdout",
          "text": [
            "\n",
            "T-test Interpretation:\n",
            "With a p-value of 0.0000, which is less than the significance level of 0.05, we reject the null hypothesis.\n",
            "This suggests that the true mean of daily customer arrivals is statistically significantly different from the hypothesized mean of 16.00.\n"
          ]
        }
      ]
    }
  ]
}