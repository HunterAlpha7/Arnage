{
  "nbformat": 4,
  "nbformat_minor": 0,
  "metadata": {
    "colab": {
      "provenance": [],
      "authorship_tag": "ABX9TyMB/CcjUu047qEucPa0MH/R",
      "include_colab_link": true
    },
    "kernelspec": {
      "name": "python3",
      "display_name": "Python 3"
    },
    "language_info": {
      "name": "python"
    }
  },
  "cells": [
    {
      "cell_type": "markdown",
      "metadata": {
        "id": "view-in-github",
        "colab_type": "text"
      },
      "source": [
        "<a href=\"https://colab.research.google.com/github/HunterAlpha7/Arnage/blob/main/0432220005101066.ipynb\" target=\"_parent\"><img src=\"https://colab.research.google.com/assets/colab-badge.svg\" alt=\"Open In Colab\"/></a>"
      ]
    },
    {
      "cell_type": "markdown",
      "source": [
        "**Name:** *Seyam Bin H Rahman*<br>\n",
        "**ID:** *0432220005101066*<br>\n",
        "**Section:** 7A"
      ],
      "metadata": {
        "id": "Vc-HpepC6Yfd"
      }
    },
    {
      "cell_type": "code",
      "source": [
        "import numpy as np\n",
        "import scipy.stats as stats #new library\n",
        "import matplotlib.pyplot as plt\n",
        "data1 = np.array([1,2,3,4,5,6,7,8,9,10,11,12,13,14,15,16,17,18,19,20])\n",
        "data2 = np.array([8,12,10,15,9,13,11,14,7,16,10,12,9,15,11,13,14,8,12,10])"
      ],
      "metadata": {
        "id": "QBRaf5lJ0ujV"
      },
      "execution_count": 13,
      "outputs": []
    },
    {
      "cell_type": "markdown",
      "source": [
        "**Part 1**"
      ],
      "metadata": {
        "id": "uLQAgfQE1mvd"
      }
    },
    {
      "cell_type": "code",
      "source": [
        "# Compute mean, variance, and standard deviation for data1\n",
        "mean1 = np.mean(data1)\n",
        "variance1 = np.var(data1) # Population variance\n",
        "std_dev1 = np.std(data1)\n",
        "\n",
        "print(f'Data 1:')\n",
        "print(f'Mean: {mean1:.2f}')\n",
        "print(f'Variance (Population): {variance1:.2f}')\n",
        "print(f'Standard Deviation (Population): {std_dev1:.2f}')\n",
        "\n",
        "# Compute mean, variance, and standard deviation for data2\n",
        "mean2 = np.mean(data2)\n",
        "variance2 = np.var(data2) # Population variance\n",
        "std_dev2 = np.std(data2)\n",
        "\n",
        "print(f'\\nData 2:')\n",
        "print(f'Mean: {mean2:.2f}')\n",
        "print(f'Variance (Population): {variance2:.2f}')\n",
        "print(f'Standard Deviation (Population): {std_dev2:.2f}')\n",
        "\n",
        "# Sample variance (using ddof=1)\n",
        "sample_variance1 = np.var(data1, ddof=1)\n",
        "sample_variance2 = np.var(data2, ddof=1)\n",
        "\n",
        "print(f'\\nSample Variance (Data 1): {sample_variance1:.2f}')\n",
        "print(f'Sample Variance (Data 2): {sample_variance2:.2f}')\n",
        "\n",
        "print(\"\\nDifference between population variance and sample variance:\")\n",
        "print(\"Population variance uses N (the total number of observations) in the denominator.\")\n",
        "print(\"Sample variance uses N-1 (degrees of freedom) in the denominator.\")\n",
        "print(\"Using N-1 in the sample variance provides a less biased estimate of the population variance, especially for smaller sample sizes.\")"
      ],
      "metadata": {
        "colab": {
          "base_uri": "https://localhost:8080/"
        },
        "id": "xWfl1S-m1mjP",
        "outputId": "321d746d-143b-4755-d445-0e0b3bef5364"
      },
      "execution_count": 20,
      "outputs": [
        {
          "output_type": "stream",
          "name": "stdout",
          "text": [
            "Data 1:\n",
            "Mean: 10.50\n",
            "Variance (Population): 33.25\n",
            "Standard Deviation (Population): 5.77\n",
            "\n",
            "Data 2:\n",
            "Mean: 11.45\n",
            "Variance (Population): 6.35\n",
            "Standard Deviation (Population): 2.52\n",
            "\n",
            "Sample Variance (Data 1): 35.00\n",
            "Sample Variance (Data 2): 6.68\n",
            "\n",
            "Difference between population variance and sample variance:\n",
            "Population variance uses N (the total number of observations) in the denominator.\n",
            "Sample variance uses N-1 (degrees of freedom) in the denominator.\n",
            "Using N-1 in the sample variance provides a less biased estimate of the population variance, especially for smaller sample sizes.\n"
          ]
        }
      ]
    },
    {
      "cell_type": "markdown",
      "source": [
        "**Part 2**"
      ],
      "metadata": {
        "id": "S7lSe3YG4HvE"
      }
    },
    {
      "cell_type": "code",
      "metadata": {
        "id": "ae3aa48c"
      },
      "source": [
        "# Assume customer arrivals follow a uniform distribution\n",
        "# Let's use the range of data2 for the uniform distribution\n",
        "min_arrivals = np.min(data2)\n",
        "max_arrivals = np.max(data2)\n",
        "\n",
        "# Generate simulated data for 30 days\n",
        "simulated_data = np.random.uniform(min_arrivals, max_arrivals, 30)\n",
        "simulated_data = np.round(simulated_data).astype(int) # Round to nearest integer for customer count\n",
        "\n",
        "print(\"Simulated daily customer arrivals (30 days):\")\n",
        "print(simulated_data)\n",
        "\n",
        "# Plotting\n",
        "fig, axes = plt.subplots(1, 2, figsize=(12, 5))\n",
        "\n",
        "# Histogram for real data (data2)\n",
        "axes[0].hist(data2, bins=np.arange(min(data2), max(data2) + 2) - 0.5, rwidth=0.8, color='skyblue', alpha=0.7)\n",
        "axes[0].set_title('Real Data Histogram')\n",
        "axes[0].set_xlabel('Number of Arrivals')\n",
        "axes[0].set_ylabel('Frequency')\n",
        "axes[0].grid(axis='y', alpha=0.75)\n",
        "\n",
        "# Histogram for simulated data\n",
        "axes[1].hist(simulated_data, bins=np.arange(min(simulated_data), max(simulated_data) + 2) - 0.5, rwidth=0.8, color='lightcoral', alpha=0.7)\n",
        "axes[1].set_title('Simulated Data Histogram')\n",
        "axes[1].set_xlabel('Number of Arrivals')\n",
        "axes[1].set_ylabel('Frequency')\n",
        "axes[1].grid(axis='y', alpha=0.75)\n",
        "\n",
        "plt.tight_layout()\n",
        "plt.show()"
      ],
      "execution_count": null,
      "outputs": []
    },
    {
      "cell_type": "markdown",
      "metadata": {
        "id": "8ebdf3d9"
      },
      "source": [
        "**Part 3**"
      ]
    },
    {
      "cell_type": "code",
      "metadata": {
        "colab": {
          "base_uri": "https://localhost:8080/"
        },
        "id": "11437571",
        "outputId": "c83af30a-a6c4-41b4-92a6-e64e0681458a"
      },
      "source": [
        "# Using Monte Carlo Simulations to estimate probability\n",
        "\n",
        "# Define the number of simulations\n",
        "num_simulations = 100000\n",
        "\n",
        "# Define min and max arrivals based on data2\n",
        "min_arrivals = np.min(data2)\n",
        "max_arrivals = np.max(data2)\n",
        "\n",
        "# Simulate customer arrivals using the uniform distribution\n",
        "simulated_arrivals = np.random.uniform(min_arrivals, max_arrivals, num_simulations)\n",
        "\n",
        "# Round to the nearest integer\n",
        "simulated_arrivals = np.round(simulated_arrivals).astype(int)\n",
        "\n",
        "# Count the number of simulations where arrivals are more than 15\n",
        "arrivals_more_than_15 = np.sum(simulated_arrivals > 15)\n",
        "\n",
        "# Estimate the probability\n",
        "probability_more_than_15 = arrivals_more_than_15 / num_simulations\n",
        "\n",
        "print(f\"Estimated probability of more than 15 customer arrivals: {probability_more_than_15:.4f}\")"
      ],
      "execution_count": 23,
      "outputs": [
        {
          "output_type": "stream",
          "name": "stdout",
          "text": [
            "Estimated probability of more than 15 customer arrivals: 0.0546\n"
          ]
        }
      ]
    },
    {
      "cell_type": "markdown",
      "source": [
        "**Part 4**"
      ],
      "metadata": {
        "id": "1Z3qIESv0vJP"
      }
    },
    {
      "cell_type": "code",
      "execution_count": 21,
      "metadata": {
        "colab": {
          "base_uri": "https://localhost:8080/"
        },
        "id": "K9414_t0zhZR",
        "outputId": "0640d3e6-9d99-4cde-8cd1-4d2d8e2eb73a"
      },
      "outputs": [
        {
          "output_type": "stream",
          "name": "stdout",
          "text": [
            "Sample Mean: 11.45\n",
            "Hypothesized Population Mean: 16.00\n",
            "t-Statistic: -7.87\n",
            "Degrees of Freedom: 19\n",
            "p-Value: 0.0000\n"
          ]
        }
      ],
      "source": [
        "# Step 2: Define the population mean (hypothesized mean)\n",
        "population_mean = 16  # Null Hypothesis (H₀): The average class score is 70\n",
        "\n",
        "# Step 3: Perform the one-sample t-test\n",
        "t_statistic, p_value = stats.ttest_1samp(data2, population_mean)\n",
        "#$ci = stats.t.interval(0.95, df=len(data)-1, loc=np.mean(data), scale=stats.sem(data))\n",
        "\n",
        "# Step 4: Display the results\n",
        "print(f'Sample Mean: {np.mean(data2):.2f}')\n",
        "print(f'Hypothesized Population Mean: {population_mean:.2f}')\n",
        "print(f't-Statistic: {t_statistic:.2f}')\n",
        "print(f'Degrees of Freedom: {len(data2) - 1}') # Changed data to data2 to match the t-test data\n",
        "print(f'p-Value: {p_value:.4f}')\n",
        "#print(f'Confidence Interval: [{ci[0]:.2f}, {ci[1]:.2f}]')"
      ]
    },
    {
      "cell_type": "code",
      "source": [
        "# Step 5: Conclusion\n",
        "alpha = 0.05  # Significance level\n",
        "if p_value < alpha:\n",
        "    print(f'Reject the null hypothesis. ')\n",
        "else:\n",
        "    print(f'Fail to reject the null hypothesis.')"
      ],
      "metadata": {
        "colab": {
          "base_uri": "https://localhost:8080/"
        },
        "id": "wfKV5ah71iIV",
        "outputId": "f638b3f7-d79b-4fc6-a030-04e01c8d08da"
      },
      "execution_count": 16,
      "outputs": [
        {
          "output_type": "stream",
          "name": "stdout",
          "text": [
            "Reject the null hypothesis. \n"
          ]
        }
      ]
    },
    {
      "cell_type": "code",
      "source": [
        "plt.figure()\n",
        "plt.bar(1, np.mean(data), color=\"skyblue\", label='Sample Mean')\n",
        "plt.errorbar(1, np.mean(data), yerr=np.std(data), fmt='k', linewidth=1.5)\n",
        "plt.axhline(y=population_mean, color='r', linestyle='--', linewidth=1.5, label='Hypothesized Mean')\n",
        "plt.title('Sample Mean vs Hypothesized Mean')\n",
        "plt.xlim(0.5,1.5)\n",
        "plt.xlabel('Sample')\n",
        "plt.ylabel('Mean Value')\n",
        "plt.legend()\n",
        "plt.grid(True)\n",
        "plt.show()"
      ],
      "metadata": {
        "colab": {
          "base_uri": "https://localhost:8080/",
          "height": 472
        },
        "id": "C0_ozQNb2Ri2",
        "outputId": "95bb4615-9d77-4310-8cfe-e8db24787509"
      },
      "execution_count": 18,
      "outputs": [
        {
          "output_type": "display_data",
          "data": {
            "text/plain": [
              "<Figure size 640x480 with 1 Axes>"
            ],
            "image/png": "[encoded data removed]"
          },
          "metadata": {}
        }
      ]
    }
  ]
}