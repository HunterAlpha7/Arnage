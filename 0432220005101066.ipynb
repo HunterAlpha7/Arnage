{
  "nbformat": 4,
  "nbformat_minor": 0,
  "metadata": {
    "colab": {
      "provenance": [],
      "authorship_tag": "ABX9TyPHb6gOCmGatb+zei4ry6pe",
      "include_colab_link": true
    },
    "kernelspec": {
      "name": "python3",
      "display_name": "Python 3"
    },
    "language_info": {
      "name": "python"
    }
  },
  "cells": [
    {
      "cell_type": "markdown",
      "metadata": {
        "id": "view-in-github",
        "colab_type": "text"
      },
      "source": [
        "<a href=\"https://colab.research.google.com/github/HunterAlpha7/Arnage/blob/main/0432220005101066.ipynb\" target=\"_parent\"><img src=\"https://colab.research.google.com/assets/colab-badge.svg\" alt=\"Open In Colab\"/></a>"
      ]
    },
    {
      "cell_type": "code",
      "source": [],
      "metadata": {
        "id": "QBRaf5lJ0ujV"
      },
      "execution_count": null,
      "outputs": []
    },
    {
      "cell_type": "markdown",
      "source": [
        "**Part 3**"
      ],
      "metadata": {
        "id": "uLQAgfQE1mvd"
      }
    },
    {
      "cell_type": "code",
      "source": [],
      "metadata": {
        "id": "xWfl1S-m1mjP"
      },
      "execution_count": null,
      "outputs": []
    },
    {
      "cell_type": "markdown",
      "source": [
        "**Part 4**"
      ],
      "metadata": {
        "id": "1Z3qIESv0vJP"
      }
    },
    {
      "cell_type": "code",
      "source": [
        "import numpy as np\n",
        "import scipy.stats as stats #new library\n",
        "import matplotlib.pyplot as plt"
      ],
      "metadata": {
        "id": "fHmxhX3K1Sru"
      },
      "execution_count": 2,
      "outputs": []
    },
    {
      "cell_type": "code",
      "execution_count": 3,
      "metadata": {
        "colab": {
          "base_uri": "https://localhost:8080/"
        },
        "id": "K9414_t0zhZR",
        "outputId": "cbba6092-4bdd-4368-a97f-9fa417080907"
      },
      "outputs": [
        {
          "output_type": "stream",
          "name": "stdout",
          "text": [
            "Sample Mean: 11.45\n",
            "Hypothesized Population Mean: 16.00\n",
            "t-Statistic: -7.87\n",
            "Degrees of Freedom: 19\n",
            "p-Value: 0.0000\n"
          ]
        }
      ],
      "source": [
        "# Step 1: Define the dataset (observed sample)\n",
        "data = np.array([8,12,10,15,9,13,11,14,7,16,10,12,9,15,11,13,14,8,12,10])  # Exam scores of 10 students\n",
        "\n",
        "# Step 2: Define the population mean (hypothesized mean)\n",
        "population_mean = 16  # Null Hypothesis (H₀): The average class score is 70\n",
        "\n",
        "# Step 3: Perform the one-sample t-test\n",
        "t_statistic, p_value = stats.ttest_1samp(data, population_mean)\n",
        "#$ci = stats.t.interval(0.95, df=len(data)-1, loc=np.mean(data), scale=stats.sem(data))\n",
        "\n",
        "# Step 4: Display the results\n",
        "print(f'Sample Mean: {np.mean(data):.2f}')\n",
        "print(f'Hypothesized Population Mean: {population_mean:.2f}')\n",
        "print(f't-Statistic: {t_statistic:.2f}')\n",
        "print(f'Degrees of Freedom: {len(data) - 1}')\n",
        "print(f'p-Value: {p_value:.4f}')\n",
        "#print(f'Confidence Interval: [{ci[0]:.2f}, {ci[1]:.2f}]')\n"
      ]
    },
    {
      "cell_type": "code",
      "source": [
        "# Step 5: Conclusion\n",
        "alpha = 0.05  # Significance level\n",
        "if p_value < alpha:\n",
        "    print(f'Reject the null hypothesis. ')\n",
        "else:\n",
        "    print(f'Fail to reject the null hypothesis.')"
      ],
      "metadata": {
        "colab": {
          "base_uri": "https://localhost:8080/"
        },
        "id": "wfKV5ah71iIV",
        "outputId": "e9aaf27a-37fa-4c07-b816-bd4e56ab4331"
      },
      "execution_count": 4,
      "outputs": [
        {
          "output_type": "stream",
          "name": "stdout",
          "text": [
            "Reject the null hypothesis. \n"
          ]
        }
      ]
    }
  ]
}