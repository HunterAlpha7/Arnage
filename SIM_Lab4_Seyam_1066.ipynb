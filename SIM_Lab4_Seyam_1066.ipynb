{
  "nbformat": 4,
  "nbformat_minor": 0,
  "metadata": {
    "colab": {
      "provenance": [],
      "authorship_tag": "ABX9TyNvamJPzMlt6Ab2YtiBs/Ut",
      "include_colab_link": true
    },
    "kernelspec": {
      "name": "python3",
      "display_name": "Python 3"
    },
    "language_info": {
      "name": "python"
    }
  },
  "cells": [
    {
      "cell_type": "markdown",
      "metadata": {
        "id": "view-in-github",
        "colab_type": "text"
      },
      "source": [
        "<a href=\"https://colab.research.google.com/github/HunterAlpha7/Arnage/blob/main/SIM_Lab4_Seyam_1066.ipynb\" target=\"_parent\"><img src=\"https://colab.research.google.com/assets/colab-badge.svg\" alt=\"Open In Colab\"/></a>"
      ]
    },
    {
      "cell_type": "code",
      "execution_count": null,
      "metadata": {
        "id": "JKAoXD6nqan6"
      },
      "outputs": [],
      "source": [
        "import numpy as np\n",
        "from sympy import Matrix\n",
        "import matlib.pyplot as plt\n",
        "import seaborn as sns\n",
        "\n",
        "import random\n",
        "def estimate_pi(num_points):\n",
        "  inside = 0\n",
        "\n",
        "for _ in range(num_points):\n",
        "  x = random.random()\n",
        "  y = random.random()\n",
        "  if x**2 + y**2 <= 1:\n",
        "    inside += 1\n",
        "\n",
        "    pi = 4* inside / num_points\n",
        "    print(\"Estimated pi for \", num_points, \"points is:\", pi)\n",
        "\n",
        "return 4 * inside / num_points"
      ]
    }
  ]
}