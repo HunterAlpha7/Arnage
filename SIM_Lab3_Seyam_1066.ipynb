{
  "cells": [
    {
      "cell_type": "markdown",
      "metadata": {
        "id": "dmZ5LECe4Qtv"
      },
      "source": [
        "**1. Student Class Work**"
      ]
    },
    {
      "cell_type": "code",
      "execution_count": null,
      "metadata": {
        "colab": {
          "base_uri": "https://localhost:8080/",
          "height": 472
        },
        "id": "Peu3-b7x33Si",
        "outputId": "06c3f340-d764-495f-c68b-52ffabd2a752"
      },
      "outputs": [],
      "source": [
        "#Uniform Random Numbers:\n",
        "\n",
        "import numpy as np\n",
        "from sympy import Matrix\n",
        "import matplotlib.pyplot as plt\n",
        "import seaborn as sns\n",
        "\n",
        "# Use np.random.rand() to generate a 1×10 vector of random numbers between 0 and 1\n",
        "random_numbers = np.random.rand(10)\n",
        "\n",
        "# Plot the histogram\n",
        "plt.hist(random_numbers, bins=5,  alpha=0.85, color='blue', edgecolor='white')\n",
        "\n",
        "# Labels and title\n",
        "plt.xlabel('Value')\n",
        "plt.ylabel('Density')\n",
        "plt.title('Histogram of Uniformly Distributed Random Numbers')\n",
        "plt.grid(True)\n",
        "\n",
        "# Show the plot\n",
        "plt.show()"
      ]
    },
    {
      "cell_type": "markdown",
      "metadata": {
        "id": "WhmPmBs37LRZ"
      },
      "source": [
        "**2. Student Class Work**"
      ]
    },
    {
      "cell_type": "code",
      "execution_count": null,
      "metadata": {
        "colab": {
          "base_uri": "https://localhost:8080/",
          "height": 472
        },
        "id": "U655Xpld7RkQ",
        "outputId": "ac529ce7-9865-4bc8-b5d0-3517452d4bac"
      },
      "outputs": [
        {
          "data": {
            "image/png": "[encoded data removed]",
            "text/plain": [
              "<Figure size 640x480 with 1 Axes>"
            ]
          },
          "metadata": {},
          "output_type": "display_data"
        }
      ],
      "source": [
        "#Normally Distributed Random Numbers:\n",
        "\n",
        "#Generate 500 random numbers from a standard normal distribution (mean=0, standard deviation=1) using np.random.normal\n",
        "\n",
        "# Generate 500 random values from a normal distribution with mean=0 and std=1\n",
        "NormalValues = np.random.normal(0, 1, 500)\n",
        "\n",
        "# Create a histogram\n",
        "plt.hist(NormalValues, bins=30, edgecolor='black')\n",
        "plt.title('Histogram of Normal Distribution (mean=0, std=1)')\n",
        "plt.xlabel('Value')\n",
        "plt.ylabel('Frequency')\n",
        "plt.show()"
      ]
    },
    {
      "cell_type": "markdown",
      "metadata": {
        "id": "7_G7r-6U8TA5"
      },
      "source": [
        "**Student Lab Assignment 2**"
      ]
    },
    {
      "cell_type": "code",
      "execution_count": null,
      "metadata": {
        "colab": {
          "base_uri": "https://localhost:8080/"
        },
        "id": "_GOnznVn8aE3",
        "outputId": "452c62fe-bcb4-4c29-8526-e49342c62edb"
      },
      "outputs": [
        {
          "name": "stdout",
          "output_type": "stream",
          "text": [
            "Seeded Random Matrix:\n",
            " [[10 37 16]\n",
            " [ 1 50 29]\n",
            " [26 30 49]]\n",
            "\n",
            "Non-Seeded Random Matrix:\n",
            " [[22 11 19]\n",
            " [19 34 11]\n",
            " [37 26 23]]\n"
          ]
        }
      ],
      "source": [
        "#Random Integers:\n",
        "\n",
        "import numpy as np\n",
        "from sympy import Matrix\n",
        "import matplotlib.pyplot as plt\n",
        "import seaborn as sns\n",
        "\n",
        "#Use numpy to create a 3×3 matrix of random integers between 1 and 50\n",
        "\n",
        "#With a fixed seed (np.random.seed(10)):\n",
        "np.random.seed(10)  # Setting seed to 10\n",
        "seeded_matrix = np.random.randint(1, 51, (3, 3))\n",
        "print(\"Seeded Random Matrix:\\n\", seeded_matrix)\n",
        "\n",
        "# Without setting a seed\n",
        "np.random.seed(None)  # No seed, generates different values each time\n",
        "non_seeded_matrix = np.random.randint(1, 51, (3, 3))\n",
        "print(\"\\nNon-Seeded Random Matrix:\\n\", non_seeded_matrix)\n"
      ]
    },
    {
      "cell_type": "markdown",
      "metadata": {
        "id": "u9kDHY9M93lw"
      },
      "source": [
        "**Observe and explain the differences in outputs:**\n",
        "\n",
        "The seeded matrix (with `np.random.seed(10)`) produces the same output every time because the seed fixes the random number sequence. In contrast, the non-seeded matrix (with `np.random.seed(None)`) generates different values each run since it relies on unpredictable system entropy. For example, the seeded output is always `[[10 37 16]...]`, while the non-seeded one varies (here, `[[22 11 19]...]`). This shows how seeding ensures reproducibility in randomness."
      ]
    }
  ],
  "metadata": {
    "colab": {
      "provenance": []
    },
    "kernelspec": {
      "display_name": "Python 3",
      "name": "python3"
    },
    "language_info": {
      "name": "python"
    }
  },
  "nbformat": 4,
  "nbformat_minor": 0
}
